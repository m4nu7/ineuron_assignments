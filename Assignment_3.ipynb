{
 "cells": [
  {
   "cell_type": "markdown",
   "id": "4a4f1026",
   "metadata": {},
   "source": [
    "# 1. Why are functions advantageous to have in your programs?"
   ]
  },
  {
   "cell_type": "markdown",
   "id": "a441d307",
   "metadata": {},
   "source": [
    "Reusability, readability, makes programs shorter and easier to read."
   ]
  },
  {
   "cell_type": "markdown",
   "id": "ebec88ed",
   "metadata": {},
   "source": [
    "# 2. When does the code in a function run: when it&#39;s specified or when it&#39;s called?"
   ]
  },
  {
   "cell_type": "markdown",
   "id": "63375e91",
   "metadata": {},
   "source": [
    "When called"
   ]
  },
  {
   "cell_type": "markdown",
   "id": "6f540fd7",
   "metadata": {},
   "source": [
    "# 3. What statement creates a function?"
   ]
  },
  {
   "cell_type": "markdown",
   "id": "3d742f11",
   "metadata": {},
   "source": [
    "def"
   ]
  },
  {
   "cell_type": "markdown",
   "id": "72fb4191",
   "metadata": {},
   "source": [
    "# 4. What is the difference between a function and a function call?"
   ]
  },
  {
   "cell_type": "markdown",
   "id": "a434da4c",
   "metadata": {},
   "source": [
    "Function is a block of code that takes some or no parameters and does a particular operation and returns the result.\n",
    "\n",
    "Function call is the code used to pass the control to the code to execute."
   ]
  },
  {
   "cell_type": "markdown",
   "id": "c602e598",
   "metadata": {},
   "source": [
    "# 5. How many global scopes are there in a Python program? How many local scopes?"
   ]
  },
  {
   "cell_type": "markdown",
   "id": "269bedf2",
   "metadata": {},
   "source": [
    "1 global scope and local scopes are as many number as function calls"
   ]
  },
  {
   "cell_type": "markdown",
   "id": "4d1e04f6",
   "metadata": {},
   "source": [
    "# 6. What happens to variables in a local scope when the function call returns?"
   ]
  },
  {
   "cell_type": "markdown",
   "id": "fc994ba7",
   "metadata": {},
   "source": [
    "local scope is destroyed and variables are forgotten"
   ]
  },
  {
   "cell_type": "markdown",
   "id": "4f23717a",
   "metadata": {},
   "source": [
    "# 7. What is the concept of a return value? Is it possible to have a return value in an expression?"
   ]
  },
  {
   "cell_type": "markdown",
   "id": "28ca0212",
   "metadata": {},
   "source": [
    "A function takes arguments (if any), performs some operations, and returns a value (or object). The value that a function returns to the caller is known as the function's return value.\n",
    "\n",
    "Yes, it's possible to have the return value in an expression"
   ]
  },
  {
   "cell_type": "markdown",
   "id": "00060be5",
   "metadata": {},
   "source": [
    "# 8. If a function does not have a return statement, what is the return value of a call to that function?"
   ]
  },
  {
   "cell_type": "markdown",
   "id": "ff464048",
   "metadata": {},
   "source": [
    "None"
   ]
  },
  {
   "cell_type": "markdown",
   "id": "42d56bd6",
   "metadata": {},
   "source": [
    "# 9. How do you make a function variable refer to the global variable?"
   ]
  },
  {
   "cell_type": "markdown",
   "id": "6b2d033d",
   "metadata": {},
   "source": [
    " We can use the global keyword to declare which variables are global."
   ]
  },
  {
   "cell_type": "markdown",
   "id": "f252de45",
   "metadata": {},
   "source": [
    "# 10. What is the data type of None?\n"
   ]
  },
  {
   "cell_type": "markdown",
   "id": "663fbdc8",
   "metadata": {},
   "source": [
    "NoneType"
   ]
  },
  {
   "cell_type": "markdown",
   "id": "0a61dcd5",
   "metadata": {},
   "source": [
    "# 11. What does the sentence import areallyourpetsnamederic do?"
   ]
  },
  {
   "cell_type": "markdown",
   "id": "f04c1572",
   "metadata": {},
   "source": [
    "it makes code in areallyourpetsnamederic module avilable"
   ]
  },
  {
   "cell_type": "markdown",
   "id": "2fde8fed",
   "metadata": {},
   "source": [
    "# 12. If you had a bacon() feature in a spam module, what would you call it after importing spam?"
   ]
  },
  {
   "cell_type": "markdown",
   "id": "15d88932",
   "metadata": {},
   "source": [
    "spam.bacon()"
   ]
  },
  {
   "cell_type": "markdown",
   "id": "b966a6df",
   "metadata": {},
   "source": [
    "# 13. What can you do to save a programme from crashing if it encounters an error?"
   ]
  },
  {
   "cell_type": "markdown",
   "id": "87ffdef3",
   "metadata": {},
   "source": [
    "We can use try and except for error handling"
   ]
  },
  {
   "cell_type": "markdown",
   "id": "a9541f7a",
   "metadata": {},
   "source": [
    "# 14. What is the purpose of the try clause? What is the purpose of the except clause?"
   ]
  },
  {
   "cell_type": "markdown",
   "id": "41a1448e",
   "metadata": {},
   "source": [
    "Critical operation which can raise an exception is placed inside the try clause. The code that handles the exceptions is written in the except clause."
   ]
  },
  {
   "cell_type": "code",
   "execution_count": null,
   "id": "c9088154",
   "metadata": {},
   "outputs": [],
   "source": []
  }
 ],
 "metadata": {
  "kernelspec": {
   "display_name": "Python 3 (ipykernel)",
   "language": "python",
   "name": "python3"
  },
  "language_info": {
   "codemirror_mode": {
    "name": "ipython",
    "version": 3
   },
   "file_extension": ".py",
   "mimetype": "text/x-python",
   "name": "python",
   "nbconvert_exporter": "python",
   "pygments_lexer": "ipython3",
   "version": "3.9.7"
  }
 },
 "nbformat": 4,
 "nbformat_minor": 5
}
