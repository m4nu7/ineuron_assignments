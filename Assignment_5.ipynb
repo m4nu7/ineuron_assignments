{
 "cells": [
  {
   "cell_type": "markdown",
   "id": "2aabef9c",
   "metadata": {},
   "source": [
    "# 1. What does an empty dictionary's code look like?"
   ]
  },
  {
   "cell_type": "code",
   "execution_count": 1,
   "id": "4523a5ba",
   "metadata": {},
   "outputs": [],
   "source": [
    "emp_dict = {}"
   ]
  },
  {
   "cell_type": "markdown",
   "id": "fee76965",
   "metadata": {},
   "source": [
    "# 2. What is the value of a dictionary value with the key 'foo' and the value 42?"
   ]
  },
  {
   "cell_type": "code",
   "execution_count": 2,
   "id": "e79bcdb2",
   "metadata": {},
   "outputs": [
    {
     "data": {
      "text/plain": [
       "42"
      ]
     },
     "execution_count": 2,
     "metadata": {},
     "output_type": "execute_result"
    }
   ],
   "source": [
    "42"
   ]
  },
  {
   "cell_type": "markdown",
   "id": "e61907f6",
   "metadata": {},
   "source": [
    "# 3. What is the most significant distinction between a dictionary and a list?"
   ]
  },
  {
   "cell_type": "markdown",
   "id": "0d6a8113",
   "metadata": {},
   "source": [
    "### A list is an ordered collection of items, which can be of different types (e.g., integers, strings, objects)\n",
    "### A dictionary is an unordered collection of key-value pairs."
   ]
  },
  {
   "cell_type": "markdown",
   "id": "c4d41b46",
   "metadata": {},
   "source": [
    "# 4. What happens if you try to access spam['foo'] if spam is {'bar': 100}?"
   ]
  },
  {
   "cell_type": "code",
   "execution_count": 3,
   "id": "0af3771f",
   "metadata": {},
   "outputs": [],
   "source": [
    "spam = {\"bar\" : 100}"
   ]
  },
  {
   "cell_type": "code",
   "execution_count": 4,
   "id": "c7c660bb",
   "metadata": {},
   "outputs": [
    {
     "ename": "KeyError",
     "evalue": "'foo'",
     "output_type": "error",
     "traceback": [
      "\u001b[1;31m---------------------------------------------------------------------------\u001b[0m",
      "\u001b[1;31mKeyError\u001b[0m                                  Traceback (most recent call last)",
      "\u001b[1;32m~\\AppData\\Local\\Temp/ipykernel_13308/3841522104.py\u001b[0m in \u001b[0;36m<module>\u001b[1;34m\u001b[0m\n\u001b[1;32m----> 1\u001b[1;33m \u001b[0mspam\u001b[0m\u001b[1;33m[\u001b[0m\u001b[1;34m\"foo\"\u001b[0m\u001b[1;33m]\u001b[0m\u001b[1;33m\u001b[0m\u001b[1;33m\u001b[0m\u001b[0m\n\u001b[0m",
      "\u001b[1;31mKeyError\u001b[0m: 'foo'"
     ]
    }
   ],
   "source": [
    "# Gives you an KeyError. Like below.\n",
    "spam[\"foo\"]"
   ]
  },
  {
   "cell_type": "markdown",
   "id": "0fa7f88d",
   "metadata": {},
   "source": [
    "# 5. If a dictionary is stored in spam, what is the difference between the expressions 'cat' in spam and 'cat' in spam.keys()?"
   ]
  },
  {
   "cell_type": "markdown",
   "id": "861b90a9",
   "metadata": {},
   "source": [
    "##### 'cat' in spam: This expression checks if the key 'cat' exists in the dictionary spam. It is a more concise and direct way to check for the presence of a key\n",
    "\n",
    "##### 'cat' in spam.keys(): This expression also checks if the key 'cat' exists in the dictionary spam, but it does so by first calling the .keys() method to retrieve all the keys in the dictionary as a view object, and then checking for the presence of 'cat' in that view."
   ]
  },
  {
   "cell_type": "markdown",
   "id": "88dd0bfe",
   "metadata": {},
   "source": [
    "# 6. If a dictionary is stored in spam, what is the difference between the expressions 'cat' in spam and 'cat' in spam.values()?"
   ]
  },
  {
   "cell_type": "markdown",
   "id": "7db8019f",
   "metadata": {},
   "source": [
    "##### 'cat' in spam: This expression checks if the key 'cat' exists in the dictionary spam. It is a more concise and direct way to check for the presence of a key\n",
    "\n",
    "##### 'cat' in spam.keys(): This expression also checks if the key 'cat' exists in the dictionary spam, but it does so by first calling the .keys() method to retrieve all the keys in the dictionary as a view object, and then checking for the presence of 'cat' in that view."
   ]
  },
  {
   "cell_type": "markdown",
   "id": "293d716b",
   "metadata": {},
   "source": [
    "# 7. What is a shortcut for the following code?\n",
    "if 'color' not in spam:\n",
    "spam['color'] = 'black'"
   ]
  },
  {
   "cell_type": "code",
   "execution_count": 7,
   "id": "dd928cfe",
   "metadata": {},
   "outputs": [
    {
     "data": {
      "text/plain": [
       "'black'"
      ]
     },
     "execution_count": 7,
     "metadata": {},
     "output_type": "execute_result"
    }
   ],
   "source": [
    "spam.setdefault('color', 'black')"
   ]
  },
  {
   "cell_type": "markdown",
   "id": "7311a178",
   "metadata": {},
   "source": [
    "# 8. How do you \"pretty print\" dictionary values using which module and function?"
   ]
  },
  {
   "cell_type": "markdown",
   "id": "c63fb4d1",
   "metadata": {},
   "source": [
    "#### By Importing pprint module and pprint() function"
   ]
  },
  {
   "cell_type": "code",
   "execution_count": null,
   "id": "3fe56999",
   "metadata": {},
   "outputs": [],
   "source": []
  }
 ],
 "metadata": {
  "kernelspec": {
   "display_name": "Python 3 (ipykernel)",
   "language": "python",
   "name": "python3"
  },
  "language_info": {
   "codemirror_mode": {
    "name": "ipython",
    "version": 3
   },
   "file_extension": ".py",
   "mimetype": "text/x-python",
   "name": "python",
   "nbconvert_exporter": "python",
   "pygments_lexer": "ipython3",
   "version": "3.9.7"
  }
 },
 "nbformat": 4,
 "nbformat_minor": 5
}
