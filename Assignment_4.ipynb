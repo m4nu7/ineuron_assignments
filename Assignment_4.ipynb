{
 "cells": [
  {
   "cell_type": "markdown",
   "id": "e7c46c09",
   "metadata": {},
   "source": [
    "# 1. What exactly is []?"
   ]
  },
  {
   "cell_type": "markdown",
   "id": "bb2e93f0",
   "metadata": {},
   "source": [
    " it's a blank list"
   ]
  },
  {
   "cell_type": "markdown",
   "id": "57075ed4",
   "metadata": {},
   "source": [
    "# 2. In a list of values stored in a variable called spam, how would you assign the value &#39;hello&#39; as the third value? (Assume [2, 4, 6, 8, 10] are in spam.)"
   ]
  },
  {
   "cell_type": "markdown",
   "id": "e542505b",
   "metadata": {},
   "source": [
    "spam[2] = \"hello\""
   ]
  },
  {
   "cell_type": "markdown",
   "id": "a887337a",
   "metadata": {},
   "source": [
    "## Let&#39;s pretend the spam includes the list [&#39;a&#39;, &#39;b&#39;, &#39;c&#39;, &#39;d&#39;] for the next three queries."
   ]
  },
  {
   "cell_type": "markdown",
   "id": "27edcb76",
   "metadata": {},
   "source": [
    "# 3. What is the value of spam[int(int(&#39;3&#39; * 2) / 11)]?"
   ]
  },
  {
   "cell_type": "markdown",
   "id": "b7aa5f73",
   "metadata": {},
   "source": [
    "'d'"
   ]
  },
  {
   "cell_type": "markdown",
   "id": "bfc3d903",
   "metadata": {},
   "source": [
    "# 4. What is the value of spam[-1]?"
   ]
  },
  {
   "cell_type": "markdown",
   "id": "f64fe003",
   "metadata": {},
   "source": [
    "'d'"
   ]
  },
  {
   "cell_type": "markdown",
   "id": "cdf9a5a1",
   "metadata": {},
   "source": [
    "# 5. What is the value of spam[:2]?"
   ]
  },
  {
   "cell_type": "markdown",
   "id": "b6e01e5b",
   "metadata": {},
   "source": [
    "['a', 'b']"
   ]
  },
  {
   "cell_type": "markdown",
   "id": "eee7d4f2",
   "metadata": {},
   "source": [
    "## Let&#39;s pretend bacon has the list [3.14, &#39;cat,&#39; 11, &#39;cat,&#39; True] for the next three questions."
   ]
  },
  {
   "cell_type": "markdown",
   "id": "100fd71b",
   "metadata": {},
   "source": [
    "##### The list above seems to have a syntax error, if the list is  [3.14, 'cat', 11, 'cat', True] below answers will hold true"
   ]
  },
  {
   "cell_type": "markdown",
   "id": "5e2384ec",
   "metadata": {},
   "source": [
    "# 6. What is the value of bacon.index(&#39;cat&#39;)?"
   ]
  },
  {
   "cell_type": "markdown",
   "id": "3fd3820e",
   "metadata": {},
   "source": [
    "1"
   ]
  },
  {
   "cell_type": "markdown",
   "id": "5e2991d1",
   "metadata": {},
   "source": [
    "# 7. How does bacon.append(99) change the look of the list value in bacon?"
   ]
  },
  {
   "cell_type": "markdown",
   "id": "6377fc64",
   "metadata": {},
   "source": [
    "bacon would then be [3.14, 'cat', 11, 'cat', True, 99]"
   ]
  },
  {
   "cell_type": "markdown",
   "id": "92c030ee",
   "metadata": {},
   "source": [
    "# 8. How does bacon.remove(&#39;cat&#39;) change the look of the list in bacon?"
   ]
  },
  {
   "cell_type": "markdown",
   "id": "aa2971c1",
   "metadata": {},
   "source": [
    "bacon would then be [3.14, 11, 'cat', True]. It will remove the first ocurrence of the string 'cat'"
   ]
  },
  {
   "cell_type": "markdown",
   "id": "be602938",
   "metadata": {},
   "source": [
    "# 9. What are the list concatenation and list replication operators?"
   ]
  },
  {
   "cell_type": "markdown",
   "id": "642745a0",
   "metadata": {},
   "source": [
    " #### +  and *"
   ]
  },
  {
   "cell_type": "markdown",
   "id": "4b28914f",
   "metadata": {},
   "source": [
    "# 10. What is difference between the list methods append() and insert()?"
   ]
  },
  {
   "cell_type": "markdown",
   "id": "2e4a5b8b",
   "metadata": {},
   "source": [
    "append() appends object to the end of the list and insert() inserts objects before the index specified"
   ]
  },
  {
   "cell_type": "markdown",
   "id": "57d25a1b",
   "metadata": {},
   "source": [
    "# 11. What are the two methods for removing items from a list?"
   ]
  },
  {
   "cell_type": "markdown",
   "id": "cba5ef06",
   "metadata": {},
   "source": [
    "pop() and remove()"
   ]
  },
  {
   "cell_type": "markdown",
   "id": "58ea3812",
   "metadata": {},
   "source": [
    "# 12. Describe how list values and string values are identical."
   ]
  },
  {
   "cell_type": "markdown",
   "id": "c9e2cc6e",
   "metadata": {},
   "source": [
    "They are both sequences, indexing and slicing works in a similar way."
   ]
  },
  {
   "cell_type": "markdown",
   "id": "585345af",
   "metadata": {},
   "source": [
    "# 13. What&#39;s the difference between tuples and lists?"
   ]
  },
  {
   "cell_type": "markdown",
   "id": "97ba7f3d",
   "metadata": {},
   "source": [
    "tuples are immutable objects and lists are mutable objects"
   ]
  },
  {
   "cell_type": "markdown",
   "id": "5556ecfc",
   "metadata": {},
   "source": [
    "# 14. How do you type a tuple value that only contains the integer 42?"
   ]
  },
  {
   "cell_type": "markdown",
   "id": "fb6f1cb6",
   "metadata": {},
   "source": [
    "(45,)"
   ]
  },
  {
   "cell_type": "markdown",
   "id": "5f61bce7",
   "metadata": {},
   "source": [
    "# 15. How do you get a list value&#39;s tuple form? How do you get a tuple value&#39;s list form?"
   ]
  },
  {
   "cell_type": "markdown",
   "id": "32e42a3c",
   "metadata": {},
   "source": [
    "By typecasting tuple on a list object. By typecasting list on a tuple object"
   ]
  },
  {
   "cell_type": "markdown",
   "id": "86c195de",
   "metadata": {},
   "source": [
    "# 16. Variables that &quot;contain&quot; list values are not necessarily lists themselves. Instead, what do they contain?"
   ]
  },
  {
   "cell_type": "markdown",
   "id": "9ea41a0e",
   "metadata": {},
   "source": [
    "Lists can contain mutiple datatype elements for ex, int, str, bool, complex, float, tuple, list, set, dict"
   ]
  },
  {
   "cell_type": "markdown",
   "id": "4e4089cd",
   "metadata": {},
   "source": [
    "# 17. How do you distinguish between copy.copy() and copy.deepcopy()?"
   ]
  },
  {
   "cell_type": "markdown",
   "id": "c00e1124",
   "metadata": {},
   "source": [
    " copy.copy() copies the references of the mutable objects.A change made to the new object changes the old object.In case of copy.deepcopy(), a copy of an object is copied into another objec and anychange made to new object does not change the old object."
   ]
  }
 ],
 "metadata": {
  "kernelspec": {
   "display_name": "Python 3 (ipykernel)",
   "language": "python",
   "name": "python3"
  },
  "language_info": {
   "codemirror_mode": {
    "name": "ipython",
    "version": 3
   },
   "file_extension": ".py",
   "mimetype": "text/x-python",
   "name": "python",
   "nbconvert_exporter": "python",
   "pygments_lexer": "ipython3",
   "version": "3.9.7"
  }
 },
 "nbformat": 4,
 "nbformat_minor": 5
}
