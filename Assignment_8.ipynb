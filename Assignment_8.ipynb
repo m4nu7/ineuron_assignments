{
 "cells": [
  {
   "cell_type": "code",
   "execution_count": null,
   "id": "c1397f9e",
   "metadata": {},
   "outputs": [],
   "source": [
    "Is the Python Standard Library included with PyInputPlus? No, PyInputPlus is not part of the Python Standard Library. It is an external module that you need to install separately using pip:\n",
    "\n",
    "bash\n",
    "pip install pyinputplus\n",
    "Why is PyInputPlus commonly imported with import pyinputplus as pypi? PyInputPlus is often imported with the alias pypi for convenience and brevity. This makes the code cleaner and easier to read:\n",
    "\n",
    "python\n",
    "import pyinputplus as pypi\n",
    "response = pypi.inputInt(prompt='Enter a number: ')\n",
    "How do you distinguish between inputInt() and inputFloat()? The inputInt() function ensures that the user inputs an integer, while the inputFloat() function ensures that the user inputs a floating-point number:\n",
    "\n",
    "python\n",
    "import pyinputplus as pypi\n",
    "\n",
    "int_value = pypi.inputInt(prompt='Enter an integer: ')\n",
    "float_value = pypi.inputFloat(prompt='Enter a float: ')\n",
    "Using PyInputPlus, how do you ensure that the user enters a whole number between 0 and 99? You can use the min and max parameters in the inputInt() function to set the range:\n",
    "\n",
    "python\n",
    "import pyinputplus as pypi\n",
    "\n",
    "whole_number = pypi.inputInt(prompt='Enter a whole number between 0 and 99: ', min=0, max=99)\n",
    "What is transferred to the keyword arguments allowRegexes and blockRegexes? The allowRegexes and blockRegexes keyword arguments take lists of regex strings to specify what input patterns are allowed or blocked:\n",
    "\n",
    "python\n",
    "import pyinputplus as pypi\n",
    "\n",
    "response = pypi.inputStr(prompt='Enter a word: ', allowRegexes=[r'^[a-zA-Z]+$'], blockRegexes=[r'^\\d+$'])\n",
    "If a blank input is entered three times, what does inputStr(limit=3) do? The inputStr(limit=3) function will raise a RetryLimitException if the user enters a blank input three times.\n",
    "\n",
    "If a blank input is entered three times, what does inputStr(limit=3, default='hello') do? The inputStr(limit=3, default='hello') function will return the string 'hello' if the user enters a blank input three times, instead of raising an exception."
   ]
  }
 ],
 "metadata": {
  "kernelspec": {
   "display_name": "Python 3 (ipykernel)",
   "language": "python",
   "name": "python3"
  },
  "language_info": {
   "codemirror_mode": {
    "name": "ipython",
    "version": 3
   },
   "file_extension": ".py",
   "mimetype": "text/x-python",
   "name": "python",
   "nbconvert_exporter": "python",
   "pygments_lexer": "ipython3",
   "version": "3.9.7"
  }
 },
 "nbformat": 4,
 "nbformat_minor": 5
}
