{
 "cells": [
  {
   "cell_type": "markdown",
   "id": "f742470a",
   "metadata": {},
   "source": [
    "# 1. In the below elements which of them are values or an expression? eg:- values can be integer or string and expressions will be mathematical operators.\n",
    "\n",
    "    *           ->    expression\n",
    "    'hello'     ->    value\n",
    "    -87.8       ->    value\n",
    "    -           ->    expression\n",
    "    /           ->    expression\n",
    "    +           ->    expression\n",
    "    6           ->    value\n",
    "\n"
   ]
  },
  {
   "cell_type": "markdown",
   "id": "1e7d0080",
   "metadata": {},
   "source": [
    "# 2. What is the difference between string and variable?\n",
    "    Strings is a data type for a sequence of characters (e.g. ‘’zaldnQfYJSMfwp”). In addition to letters, they can also include numbers, spaces, punctuation. Strings can not be used for calculation (even if your string is just a number like ‘5’), you would have to convert it to a number data type first to perform math operations on it.\n",
    "\n",
    "We define a string by putting single quotes (‘ ’) or double quotes (“ “) around whatever you want to classify as a string. The string data type is primarily used for reading and writing data.\n",
    "\n",
    "Variables are references that you create to refer to other values in your program later"
   ]
  },
  {
   "cell_type": "markdown",
   "id": "e83fdd99",
   "metadata": {},
   "source": [
    "# 3. Describe three different data types.\n",
    "\n",
    "String   :  Strings is a data type for a sequence of characters (e.g. ‘’zaldnQfYJSMfwp”). In addition to letters, they can also include numbers, spaces, punctuation. Strings can not be used for calculation (even if your string is just a number like ‘5’), you would have to convert it to a number data type first to perform math operations on it.\n",
    "\n",
    "We define a string by putting single quotes (‘ ’) or double quotes (“ “) around whatever you want to classify as a string. The string data type is primarily used for reading and writing data.\n",
    "\n",
    "int : integers are zero, positive or negative whole numbers without a fractional part and having unlimited precision. Integers can be binary, octal, and hexadecimal values.\n",
    "\n",
    "float : float type in Python represents the floating point number. Float is used to represent real numbers and is written with a decimal point dividing the integer and fractional parts."
   ]
  },
  {
   "cell_type": "markdown",
   "id": "9f3df752",
   "metadata": {},
   "source": [
    "# 4. What is an expression made up of? What do all expressions do?\n",
    "\n",
    "A sequence of operands and operators, like a + b - 5 , is called an expression. They compute/validate and return a value."
   ]
  },
  {
   "cell_type": "markdown",
   "id": "36392279",
   "metadata": {},
   "source": [
    "# 5. This assignment statements, like spam = 10. What is the difference between an expression and a statement?\n",
    "\n",
    "An expression validates/ computes and returns a value. And, assigment statement assigns a value\n",
    "\n"
   ]
  },
  {
   "cell_type": "markdown",
   "id": "4f9001a5",
   "metadata": {},
   "source": [
    "# 6. After running the following code, what does the variable bacon contain?\n",
    "# bacon = 22\n",
    "# bacon + 1\n",
    "\n",
    "\n",
    "22"
   ]
  },
  {
   "cell_type": "markdown",
   "id": "de582a36",
   "metadata": {},
   "source": [
    "# 7. What should the values of the following two terms be?\n",
    "\n",
    "# 'spam' + 'spamspam'\n",
    "# 'spam' * 3\n",
    "\n",
    "'spamspamspam'\n"
   ]
  },
  {
   "cell_type": "markdown",
   "id": "56efc667",
   "metadata": {},
   "source": [
    "# 8. Why is eggs a valid variable name while 100 is invalid?\n",
    "\n",
    "Because then a string of digits would be a valid identifier as well as a valid number.\n",
    "\n",
    "Examples in C:\n",
    "\n",
    "int 17 = 497;\n",
    "\n",
    "int 42 = 6 * 9;\n",
    "\n",
    "String 1111 = \"Totally text\";\n"
   ]
  },
  {
   "cell_type": "markdown",
   "id": "48e225ef",
   "metadata": {},
   "source": [
    "# 9. What three functions can be used to get the integer, floating-point number, or string version of a value?\n",
    "\n",
    " int(), float(), and str() "
   ]
  },
  {
   "cell_type": "markdown",
   "id": "32435914",
   "metadata": {},
   "source": [
    "# 10. Why does this expression cause an error? How can you fix it?\n",
    "## 'I have eaten ' + 99 + ' burritos.'\n",
    "\n",
    "Because, we are trying to concatenate str type to int. \n",
    "\n",
    "Fix: 'I have eaten ' + \"99\" + ' burritos.'"
   ]
  },
  {
   "cell_type": "code",
   "execution_count": null,
   "id": "d8ffdd59",
   "metadata": {},
   "outputs": [],
   "source": []
  },
  {
   "cell_type": "code",
   "execution_count": null,
   "id": "6ff0b034",
   "metadata": {},
   "outputs": [],
   "source": []
  }
 ],
 "metadata": {
  "kernelspec": {
   "display_name": "Python 3 (ipykernel)",
   "language": "python",
   "name": "python3"
  },
  "language_info": {
   "codemirror_mode": {
    "name": "ipython",
    "version": 3
   },
   "file_extension": ".py",
   "mimetype": "text/x-python",
   "name": "python",
   "nbconvert_exporter": "python",
   "pygments_lexer": "ipython3",
   "version": "3.9.7"
  }
 },
 "nbformat": 4,
 "nbformat_minor": 5
}
