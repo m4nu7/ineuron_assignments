{
 "cells": [
  {
   "cell_type": "markdown",
   "id": "83a2dbb8",
   "metadata": {},
   "source": [
    "# 1.What are the two values of the Boolean data type? How do you write them?\n",
    "\n",
    "True and False"
   ]
  },
  {
   "cell_type": "markdown",
   "id": "c177cf13",
   "metadata": {},
   "source": [
    "# 2. What are the three different types of Boolean operators?\n",
    "\n",
    "and, or, not"
   ]
  },
  {
   "cell_type": "markdown",
   "id": "c7aebcc0",
   "metadata": {},
   "source": [
    "# 3. Make a list of each Boolean operator's truth tables (i.e. every possible combination of Boolean values for the operator and what it evaluate ).\n",
    "\n",
    "AND:\n",
    "\n",
    "True and True = True\n",
    "\n",
    "True and False = False\n",
    "\n",
    "False and True = False\n",
    "\n",
    "False and False = False\n",
    "\n",
    "OR :\n",
    "\n",
    "True or True = True\n",
    "\n",
    "True or False = True\n",
    "\n",
    "False or True = True\n",
    "\n",
    "False or False = False\n",
    "\n",
    "NOT :\n",
    "\n",
    "not(True) = False\n",
    "\n",
    "not(False) = True\n"
   ]
  },
  {
   "cell_type": "markdown",
   "id": "edf46be0",
   "metadata": {},
   "source": [
    "# 4. What are the values of the following expressions?\n",
    "\n",
    "### (5 > 4) and (3 == 5)\n",
    "False\n",
    "\n",
    "### not (5 > 4)\n",
    "False\n",
    "\n",
    "### (5 > 4) or (3 == 5)\n",
    "True\n",
    "\n",
    "### not ((5 > 4) or (3 == 5))\n",
    "False\n",
    "\n",
    "### (True and True) and (True == False)\n",
    "False\n",
    "\n",
    "### (not False) or (not True)\n",
    "True"
   ]
  },
  {
   "cell_type": "markdown",
   "id": "e0e60a12",
   "metadata": {},
   "source": [
    "# 5. What are the six comparison operators?\n",
    "\n",
    "### <\n",
    "### >\n",
    "### ==\n",
    "### <=\n",
    "### >=\n",
    "### !="
   ]
  },
  {
   "cell_type": "markdown",
   "id": "414df303",
   "metadata": {},
   "source": [
    "# 6. How do you tell the difference between the equal to and assignment operators?Describe a condition and when you would use one. \n",
    "\n",
    " = is the assignment operator is used to assign the value on the right to the variable on the left. \n",
    " \n",
    " ex: a = 5\n",
    "\n",
    " == operator checks whether the two given operands are equal or not. If equal, it returns true. Otherwise it returns false. Used to check equal to condition\n",
    " \n",
    "ex : \n",
    "\n",
    "a = 5\n",
    "\n",
    "b = 4\n",
    "\n",
    "a == b\n",
    "\n"
   ]
  },
  {
   "cell_type": "markdown",
   "id": "be343a47",
   "metadata": {},
   "source": [
    "# 7. Identify the three blocks in this code:\n",
    "spam = 0\n",
    "\n",
    "if spam == 10: \n",
    "\n",
    "print('eggs')\n",
    "\n",
    "if spam > 5: \n",
    "\n",
    "print('bacon')\n",
    "\n",
    "else: \n",
    "\n",
    "print('ham')\n",
    "\n",
    "print('spam')\n",
    "\n",
    "print('spam')\n",
    "\n",
    "## Ans : No indents, means only 1 block\n"
   ]
  },
  {
   "cell_type": "markdown",
   "id": "0266d992",
   "metadata": {},
   "source": [
    "# 8. Write code that prints Hello if 1 is stored in spam, prints Howdy if 2 is stored in spam, and prints Greetings! if anything else is stored in spam.\n",
    "\n",
    "spam = int(input(\"Enter spam value \"))\n",
    "\n",
    "if spam == 1:\n",
    "\n",
    "    print('Hello')\n",
    "    \n",
    "elif spam == 2:\n",
    "\n",
    "    print('Howdy')\n",
    "else:\n",
    "\n",
    "    print('Greetings!')\n"
   ]
  },
  {
   "cell_type": "markdown",
   "id": "bbd1b875",
   "metadata": {},
   "source": [
    "# 9.If your programme is stuck in an endless loop, what keys you’ll press?\n",
    "\n",
    "ctrl + c"
   ]
  },
  {
   "cell_type": "markdown",
   "id": "cce8b910",
   "metadata": {},
   "source": [
    "# 10. How can you tell the difference between break and continue?\n",
    "\n",
    "Break terminates the loop and resumes after the loop. Where as, continue gives the control back to the loop for the next iteration"
   ]
  },
  {
   "cell_type": "markdown",
   "id": "879b55fc",
   "metadata": {},
   "source": [
    "# 11. In a for loop, what is the difference between range(10), range(0, 10), and range(0, 10, 1)?\n",
    "\n",
    "They are the same, gives the for loop 10 iterations"
   ]
  },
  {
   "cell_type": "markdown",
   "id": "8bad706c",
   "metadata": {},
   "source": [
    "# 12. Write a short program that prints the numbers 1 to 10 using a for loop. Then write an equivalent program that prints the numbers 1 to 10 using a while loop.\n",
    "\n"
   ]
  },
  {
   "cell_type": "code",
   "execution_count": 19,
   "id": "32e85bfc",
   "metadata": {},
   "outputs": [
    {
     "name": "stdout",
     "output_type": "stream",
     "text": [
      "1 2 3 4 5 6 7 8 9 10 "
     ]
    }
   ],
   "source": [
    "# for loop\n",
    "\n",
    "for i in range(0,10) : \n",
    "    print(i+1, end = \" \")"
   ]
  },
  {
   "cell_type": "code",
   "execution_count": 21,
   "id": "3938e6f2",
   "metadata": {},
   "outputs": [
    {
     "name": "stdout",
     "output_type": "stream",
     "text": [
      "1 2 3 4 5 6 7 8 9 10 "
     ]
    }
   ],
   "source": [
    "# while loop\n",
    "\n",
    "i = 1\n",
    "while i <= 10 :\n",
    "    print(i, end = \" \")\n",
    "    i += 1"
   ]
  },
  {
   "cell_type": "markdown",
   "id": "1dff9922",
   "metadata": {},
   "source": [
    "# 13. If you had a function named bacon() inside a module named spam, how would you call it after importing spam?\n",
    "\n",
    "spam.bacon()"
   ]
  },
  {
   "cell_type": "code",
   "execution_count": null,
   "id": "a2e9db90",
   "metadata": {},
   "outputs": [],
   "source": []
  }
 ],
 "metadata": {
  "kernelspec": {
   "display_name": "Python 3 (ipykernel)",
   "language": "python",
   "name": "python3"
  },
  "language_info": {
   "codemirror_mode": {
    "name": "ipython",
    "version": 3
   },
   "file_extension": ".py",
   "mimetype": "text/x-python",
   "name": "python",
   "nbconvert_exporter": "python",
   "pygments_lexer": "ipython3",
   "version": "3.9.7"
  }
 },
 "nbformat": 4,
 "nbformat_minor": 5
}
